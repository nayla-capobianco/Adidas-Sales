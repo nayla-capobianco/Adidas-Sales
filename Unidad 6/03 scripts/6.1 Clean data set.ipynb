{
 "cells": [
  {
   "cell_type": "markdown",
   "metadata": {},
   "source": [
    "# 6.1 Data clean and Data Consistency Checks\n"
   ]
  },
  {
   "cell_type": "markdown",
   "metadata": {},
   "source": [
    "## -Find and address mixed type variables in a dataframe¶\n",
    "## -Find and address missing values in a dataframe\n",
    "## -Find and address duplicate values in a dataframe"
   ]
  },
  {
   "cell_type": "code",
   "execution_count": 1,
   "metadata": {},
   "outputs": [],
   "source": [
    "# import libraries\n",
    "import pandas as pd\n",
    "import numpy as np\n",
    "import os\n",
    "from pathlib import Path"
   ]
  },
  {
   "cell_type": "code",
   "execution_count": 2,
   "metadata": {},
   "outputs": [],
   "source": [
    "# open data adidas\n",
    "path = Path(\"C:/\", \"Users\", \"nayla\", \"Desktop\", \"Carrer F\", \"Curso de inmersion\", \"Unidad 6\")\n"
   ]
  },
  {
   "cell_type": "code",
   "execution_count": 3,
   "metadata": {},
   "outputs": [],
   "source": [
    "data = pd.read_csv(\n",
    "    path.joinpath('02 data', 'Adidas_US_Sales.csv'), \n",
    "    index_col = False, \n",
    "    skiprows=4, \n",
    "    sep=\";\",\n",
    "    thousands='.', # when I open the file with a text editor I see 300.000$ which is not 300$ but 300000$\n",
    "    decimal=',' # As well I see 1,234$ which is 1.234$\n",
    ")\n"
   ]
  },
  {
   "cell_type": "code",
   "execution_count": 4,
   "metadata": {},
   "outputs": [
    {
     "data": {
      "text/plain": [
       "(9648, 13)"
      ]
     },
     "execution_count": 4,
     "metadata": {},
     "output_type": "execute_result"
    }
   ],
   "source": [
    "#Control data\n",
    "data.shape"
   ]
  },
  {
   "cell_type": "code",
   "execution_count": 5,
   "metadata": {},
   "outputs": [
    {
     "data": {
      "text/plain": [
       "Retailer            object\n",
       "Retailer ID          int64\n",
       "Invoice Date        object\n",
       "Region              object\n",
       "State               object\n",
       "City                object\n",
       "Product             object\n",
       "Price per Unit      object\n",
       "Units Sold           int64\n",
       "Total Sales         object\n",
       "Operating Profit    object\n",
       "Operating Margin    object\n",
       "Sales Method        object\n",
       "dtype: object"
      ]
     },
     "execution_count": 5,
     "metadata": {},
     "output_type": "execute_result"
    }
   ],
   "source": [
    "data.dtypes"
   ]
  },
  {
   "cell_type": "markdown",
   "metadata": {},
   "source": [
    "## Missing values"
   ]
  },
  {
   "cell_type": "code",
   "execution_count": 6,
   "metadata": {},
   "outputs": [
    {
     "data": {
      "text/plain": [
       "Retailer            0\n",
       "Retailer ID         0\n",
       "Invoice Date        0\n",
       "Region              0\n",
       "State               0\n",
       "City                0\n",
       "Product             0\n",
       "Price per Unit      0\n",
       "Units Sold          0\n",
       "Total Sales         0\n",
       "Operating Profit    0\n",
       "Operating Margin    0\n",
       "Sales Method        0\n",
       "dtype: int64"
      ]
     },
     "execution_count": 6,
     "metadata": {},
     "output_type": "execute_result"
    }
   ],
   "source": [
    "# show missing values\n",
    "data.isnull().sum()"
   ]
  },
  {
   "cell_type": "markdown",
   "metadata": {},
   "source": [
    "Table columns do not contain null values"
   ]
  },
  {
   "cell_type": "markdown",
   "metadata": {},
   "source": [
    "## Duplicates"
   ]
  },
  {
   "cell_type": "code",
   "execution_count": 7,
   "metadata": {},
   "outputs": [],
   "source": [
    "#look for full duplicates within your dataframe:\n",
    "data_dups = data[data.duplicated()]"
   ]
  },
  {
   "cell_type": "code",
   "execution_count": 8,
   "metadata": {},
   "outputs": [
    {
     "data": {
      "text/html": [
       "<div>\n",
       "<style scoped>\n",
       "    .dataframe tbody tr th:only-of-type {\n",
       "        vertical-align: middle;\n",
       "    }\n",
       "\n",
       "    .dataframe tbody tr th {\n",
       "        vertical-align: top;\n",
       "    }\n",
       "\n",
       "    .dataframe thead th {\n",
       "        text-align: right;\n",
       "    }\n",
       "</style>\n",
       "<table border=\"1\" class=\"dataframe\">\n",
       "  <thead>\n",
       "    <tr style=\"text-align: right;\">\n",
       "      <th></th>\n",
       "      <th>Retailer</th>\n",
       "      <th>Retailer ID</th>\n",
       "      <th>Invoice Date</th>\n",
       "      <th>Region</th>\n",
       "      <th>State</th>\n",
       "      <th>City</th>\n",
       "      <th>Product</th>\n",
       "      <th>Price per Unit</th>\n",
       "      <th>Units Sold</th>\n",
       "      <th>Total Sales</th>\n",
       "      <th>Operating Profit</th>\n",
       "      <th>Operating Margin</th>\n",
       "      <th>Sales Method</th>\n",
       "    </tr>\n",
       "  </thead>\n",
       "  <tbody>\n",
       "  </tbody>\n",
       "</table>\n",
       "</div>"
      ],
      "text/plain": [
       "Empty DataFrame\n",
       "Columns: [Retailer, Retailer ID, Invoice Date, Region, State, City, Product, Price per Unit, Units Sold, Total Sales, Operating Profit, Operating Margin, Sales Method]\n",
       "Index: []"
      ]
     },
     "execution_count": 8,
     "metadata": {},
     "output_type": "execute_result"
    }
   ],
   "source": [
    "data_dups"
   ]
  },
  {
   "cell_type": "markdown",
   "metadata": {},
   "source": [
    "Table columns do not contain duplicates"
   ]
  },
  {
   "cell_type": "markdown",
   "metadata": {},
   "source": [
    "## Fix data types"
   ]
  },
  {
   "cell_type": "code",
   "execution_count": 9,
   "metadata": {},
   "outputs": [
    {
     "data": {
      "text/plain": [
       "Retailer            object\n",
       "Retailer ID          int64\n",
       "Invoice Date        object\n",
       "Region              object\n",
       "State               object\n",
       "City                object\n",
       "Product             object\n",
       "Price per Unit      object\n",
       "Units Sold           int64\n",
       "Total Sales         object\n",
       "Operating Profit    object\n",
       "Operating Margin    object\n",
       "Sales Method        object\n",
       "dtype: object"
      ]
     },
     "execution_count": 9,
     "metadata": {},
     "output_type": "execute_result"
    }
   ],
   "source": [
    "data.dtypes"
   ]
  },
  {
   "cell_type": "markdown",
   "metadata": {},
   "source": [
    "## Consistency checks"
   ]
  },
  {
   "cell_type": "markdown",
   "metadata": {},
   "source": [
    "### - Retail ID"
   ]
  },
  {
   "cell_type": "code",
   "execution_count": 10,
   "metadata": {},
   "outputs": [
    {
     "data": {
      "text/plain": [
       "array(['Foot Locker', 'Walmart', 'Sports Direct', 'West Gear', \"Kohl's\",\n",
       "       'Amazon'], dtype=object)"
      ]
     },
     "execution_count": 10,
     "metadata": {},
     "output_type": "execute_result"
    }
   ],
   "source": [
    "# Retailer should be a string\n",
    "data['Retailer'] = data['Retailer'].astype('str')\n",
    "# Verify we have consistent values\n",
    "data['Retailer'].unique()"
   ]
  },
  {
   "cell_type": "code",
   "execution_count": 11,
   "metadata": {},
   "outputs": [
    {
     "data": {
      "text/plain": [
       "array([1185732, 1197831, 1128299, 1189833], dtype=int64)"
      ]
     },
     "execution_count": 11,
     "metadata": {},
     "output_type": "execute_result"
    }
   ],
   "source": [
    "# Retailer ID was identified as a number properly\n",
    "# verify we have consistent values, and the amounts match the amounts from Retailer\n",
    "data['Retailer ID'].unique()"
   ]
  },
  {
   "cell_type": "code",
   "execution_count": 12,
   "metadata": {},
   "outputs": [
    {
     "data": {
      "text/plain": [
       "array([(1128299, 'Foot Locker'), (1128299, \"Kohl's\"),\n",
       "       (1128299, 'Sports Direct'), (1128299, 'Walmart'),\n",
       "       (1128299, 'West Gear'), (1185732, 'Amazon'),\n",
       "       (1185732, 'Foot Locker'), (1185732, \"Kohl's\"),\n",
       "       (1185732, 'Sports Direct'), (1185732, 'Walmart'),\n",
       "       (1185732, 'West Gear'), (1189833, \"Kohl's\"),\n",
       "       (1197831, 'Foot Locker'), (1197831, \"Kohl's\"),\n",
       "       (1197831, 'Sports Direct'), (1197831, 'Walmart'),\n",
       "       (1197831, 'West Gear')], dtype=object)"
      ]
     },
     "execution_count": 12,
     "metadata": {},
     "output_type": "execute_result"
    }
   ],
   "source": [
    "# Sizes don't match, so we need to investigate\n",
    "np.unique(data.apply(lambda x: (x['Retailer ID'], x['Retailer']), axis=1, result_type='reduce').values)\n"
   ]
  },
  {
   "cell_type": "code",
   "execution_count": 13,
   "metadata": {},
   "outputs": [
    {
     "data": {
      "text/html": [
       "<div>\n",
       "<style scoped>\n",
       "    .dataframe tbody tr th:only-of-type {\n",
       "        vertical-align: middle;\n",
       "    }\n",
       "\n",
       "    .dataframe tbody tr th {\n",
       "        vertical-align: top;\n",
       "    }\n",
       "\n",
       "    .dataframe thead th {\n",
       "        text-align: right;\n",
       "    }\n",
       "</style>\n",
       "<table border=\"1\" class=\"dataframe\">\n",
       "  <thead>\n",
       "    <tr style=\"text-align: right;\">\n",
       "      <th></th>\n",
       "      <th>Retailer</th>\n",
       "      <th>Invoice Date</th>\n",
       "      <th>Region</th>\n",
       "      <th>State</th>\n",
       "      <th>City</th>\n",
       "      <th>Product</th>\n",
       "      <th>Price per Unit</th>\n",
       "      <th>Units Sold</th>\n",
       "      <th>Total Sales</th>\n",
       "      <th>Operating Profit</th>\n",
       "      <th>Operating Margin</th>\n",
       "      <th>Sales Method</th>\n",
       "    </tr>\n",
       "  </thead>\n",
       "  <tbody>\n",
       "    <tr>\n",
       "      <th>0</th>\n",
       "      <td>Foot Locker</td>\n",
       "      <td>01/01/2020</td>\n",
       "      <td>Northeast</td>\n",
       "      <td>New York</td>\n",
       "      <td>New York</td>\n",
       "      <td>Men's Street Footwear</td>\n",
       "      <td>$50,00</td>\n",
       "      <td>1200</td>\n",
       "      <td>$600.000</td>\n",
       "      <td>$300.000</td>\n",
       "      <td>50%</td>\n",
       "      <td>In-store</td>\n",
       "    </tr>\n",
       "    <tr>\n",
       "      <th>1</th>\n",
       "      <td>Foot Locker</td>\n",
       "      <td>02/01/2020</td>\n",
       "      <td>Northeast</td>\n",
       "      <td>New York</td>\n",
       "      <td>New York</td>\n",
       "      <td>Men's Athletic Footwear</td>\n",
       "      <td>$50,00</td>\n",
       "      <td>1000</td>\n",
       "      <td>$500.000</td>\n",
       "      <td>$150.000</td>\n",
       "      <td>30%</td>\n",
       "      <td>In-store</td>\n",
       "    </tr>\n",
       "    <tr>\n",
       "      <th>2</th>\n",
       "      <td>Foot Locker</td>\n",
       "      <td>03/01/2020</td>\n",
       "      <td>Northeast</td>\n",
       "      <td>New York</td>\n",
       "      <td>New York</td>\n",
       "      <td>Women's Street Footwear</td>\n",
       "      <td>$40,00</td>\n",
       "      <td>1000</td>\n",
       "      <td>$400.000</td>\n",
       "      <td>$140.000</td>\n",
       "      <td>35%</td>\n",
       "      <td>In-store</td>\n",
       "    </tr>\n",
       "    <tr>\n",
       "      <th>3</th>\n",
       "      <td>Foot Locker</td>\n",
       "      <td>04/01/2020</td>\n",
       "      <td>Northeast</td>\n",
       "      <td>New York</td>\n",
       "      <td>New York</td>\n",
       "      <td>Women's Athletic Footwear</td>\n",
       "      <td>$45,00</td>\n",
       "      <td>850</td>\n",
       "      <td>$382.500</td>\n",
       "      <td>$133.875</td>\n",
       "      <td>35%</td>\n",
       "      <td>In-store</td>\n",
       "    </tr>\n",
       "    <tr>\n",
       "      <th>4</th>\n",
       "      <td>Foot Locker</td>\n",
       "      <td>05/01/2020</td>\n",
       "      <td>Northeast</td>\n",
       "      <td>New York</td>\n",
       "      <td>New York</td>\n",
       "      <td>Men's Apparel</td>\n",
       "      <td>$60,00</td>\n",
       "      <td>900</td>\n",
       "      <td>$540.000</td>\n",
       "      <td>$162.000</td>\n",
       "      <td>30%</td>\n",
       "      <td>In-store</td>\n",
       "    </tr>\n",
       "    <tr>\n",
       "      <th>...</th>\n",
       "      <td>...</td>\n",
       "      <td>...</td>\n",
       "      <td>...</td>\n",
       "      <td>...</td>\n",
       "      <td>...</td>\n",
       "      <td>...</td>\n",
       "      <td>...</td>\n",
       "      <td>...</td>\n",
       "      <td>...</td>\n",
       "      <td>...</td>\n",
       "      <td>...</td>\n",
       "      <td>...</td>\n",
       "    </tr>\n",
       "    <tr>\n",
       "      <th>9643</th>\n",
       "      <td>Foot Locker</td>\n",
       "      <td>24/01/2021</td>\n",
       "      <td>Northeast</td>\n",
       "      <td>New Hampshire</td>\n",
       "      <td>Manchester</td>\n",
       "      <td>Men's Apparel</td>\n",
       "      <td>$50,00</td>\n",
       "      <td>64</td>\n",
       "      <td>$3.200</td>\n",
       "      <td>$896</td>\n",
       "      <td>28%</td>\n",
       "      <td>Outlet</td>\n",
       "    </tr>\n",
       "    <tr>\n",
       "      <th>9644</th>\n",
       "      <td>Foot Locker</td>\n",
       "      <td>24/01/2021</td>\n",
       "      <td>Northeast</td>\n",
       "      <td>New Hampshire</td>\n",
       "      <td>Manchester</td>\n",
       "      <td>Women's Apparel</td>\n",
       "      <td>$41,00</td>\n",
       "      <td>105</td>\n",
       "      <td>$4.305</td>\n",
       "      <td>$1.378</td>\n",
       "      <td>32%</td>\n",
       "      <td>Outlet</td>\n",
       "    </tr>\n",
       "    <tr>\n",
       "      <th>9645</th>\n",
       "      <td>Foot Locker</td>\n",
       "      <td>22/02/2021</td>\n",
       "      <td>Northeast</td>\n",
       "      <td>New Hampshire</td>\n",
       "      <td>Manchester</td>\n",
       "      <td>Men's Street Footwear</td>\n",
       "      <td>$41,00</td>\n",
       "      <td>184</td>\n",
       "      <td>$7.544</td>\n",
       "      <td>$2.791</td>\n",
       "      <td>37%</td>\n",
       "      <td>Outlet</td>\n",
       "    </tr>\n",
       "    <tr>\n",
       "      <th>9646</th>\n",
       "      <td>Foot Locker</td>\n",
       "      <td>22/02/2021</td>\n",
       "      <td>Northeast</td>\n",
       "      <td>New Hampshire</td>\n",
       "      <td>Manchester</td>\n",
       "      <td>Men's Athletic Footwear</td>\n",
       "      <td>$42,00</td>\n",
       "      <td>70</td>\n",
       "      <td>$2.940</td>\n",
       "      <td>$1.235</td>\n",
       "      <td>42%</td>\n",
       "      <td>Outlet</td>\n",
       "    </tr>\n",
       "    <tr>\n",
       "      <th>9647</th>\n",
       "      <td>Foot Locker</td>\n",
       "      <td>22/02/2021</td>\n",
       "      <td>Northeast</td>\n",
       "      <td>New Hampshire</td>\n",
       "      <td>Manchester</td>\n",
       "      <td>Women's Street Footwear</td>\n",
       "      <td>$29,00</td>\n",
       "      <td>83</td>\n",
       "      <td>$2.407</td>\n",
       "      <td>$650</td>\n",
       "      <td>27%</td>\n",
       "      <td>Outlet</td>\n",
       "    </tr>\n",
       "  </tbody>\n",
       "</table>\n",
       "<p>9648 rows × 12 columns</p>\n",
       "</div>"
      ],
      "text/plain": [
       "         Retailer Invoice Date     Region          State        City  \\\n",
       "0     Foot Locker   01/01/2020  Northeast       New York    New York   \n",
       "1     Foot Locker   02/01/2020  Northeast       New York    New York   \n",
       "2     Foot Locker   03/01/2020  Northeast       New York    New York   \n",
       "3     Foot Locker   04/01/2020  Northeast       New York    New York   \n",
       "4     Foot Locker   05/01/2020  Northeast       New York    New York   \n",
       "...           ...          ...        ...            ...         ...   \n",
       "9643  Foot Locker   24/01/2021  Northeast  New Hampshire  Manchester   \n",
       "9644  Foot Locker   24/01/2021  Northeast  New Hampshire  Manchester   \n",
       "9645  Foot Locker   22/02/2021  Northeast  New Hampshire  Manchester   \n",
       "9646  Foot Locker   22/02/2021  Northeast  New Hampshire  Manchester   \n",
       "9647  Foot Locker   22/02/2021  Northeast  New Hampshire  Manchester   \n",
       "\n",
       "                        Product Price per Unit  Units Sold Total Sales  \\\n",
       "0         Men's Street Footwear        $50,00         1200   $600.000    \n",
       "1       Men's Athletic Footwear        $50,00         1000   $500.000    \n",
       "2       Women's Street Footwear        $40,00         1000   $400.000    \n",
       "3     Women's Athletic Footwear        $45,00          850   $382.500    \n",
       "4                 Men's Apparel        $60,00          900   $540.000    \n",
       "...                         ...            ...         ...         ...   \n",
       "9643              Men's Apparel        $50,00           64     $3.200    \n",
       "9644            Women's Apparel        $41,00          105     $4.305    \n",
       "9645      Men's Street Footwear        $41,00          184     $7.544    \n",
       "9646    Men's Athletic Footwear        $42,00           70     $2.940    \n",
       "9647    Women's Street Footwear        $29,00           83     $2.407    \n",
       "\n",
       "     Operating Profit Operating Margin Sales Method  \n",
       "0           $300.000               50%     In-store  \n",
       "1           $150.000               30%     In-store  \n",
       "2           $140.000               35%     In-store  \n",
       "3           $133.875               35%     In-store  \n",
       "4           $162.000               30%     In-store  \n",
       "...               ...              ...          ...  \n",
       "9643            $896               28%       Outlet  \n",
       "9644          $1.378               32%       Outlet  \n",
       "9645          $2.791               37%       Outlet  \n",
       "9646          $1.235               42%       Outlet  \n",
       "9647            $650               27%       Outlet  \n",
       "\n",
       "[9648 rows x 12 columns]"
      ]
     },
     "execution_count": 13,
     "metadata": {},
     "output_type": "execute_result"
    }
   ],
   "source": [
    "#delete column Retail ID\n",
    "data.drop(['Retailer ID'], axis=1, inplace=True)\n",
    "data"
   ]
  },
  {
   "cell_type": "markdown",
   "metadata": {},
   "source": [
    "Retailer ID makes no sense, same ID used for multiple Retailers so we're dropping that column\n"
   ]
  },
  {
   "cell_type": "markdown",
   "metadata": {},
   "source": [
    "### - Invoice date"
   ]
  },
  {
   "cell_type": "code",
   "execution_count": 14,
   "metadata": {},
   "outputs": [
    {
     "data": {
      "text/plain": [
       "array(['01/01/2020', '02/01/2020', '03/01/2020', '04/01/2020',\n",
       "       '05/01/2020', '06/01/2020', '07/01/2020', '08/01/2020',\n",
       "       '21/01/2020', '22/01/2020', '23/01/2020', '24/01/2020',\n",
       "       '25/01/2020', '26/01/2020', '27/01/2020', '28/01/2020',\n",
       "       '29/01/2020', '30/01/2020', '31/01/2020', '01/02/2020',\n",
       "       '02/02/2020', '03/02/2020', '04/02/2020', '05/02/2020',\n",
       "       '06/02/2020', '07/02/2020', '08/02/2020', '09/02/2020',\n",
       "       '10/02/2020', '03/03/2020', '04/03/2020', '05/03/2020',\n",
       "       '06/03/2020', '07/03/2020', '08/03/2020', '09/03/2020',\n",
       "       '10/03/2020', '11/03/2020', '12/03/2020', '13/03/2020',\n",
       "       '14/03/2020', '15/03/2020', '16/03/2020', '17/03/2020',\n",
       "       '18/03/2020', '31/03/2020', '17/04/2020', '18/04/2020',\n",
       "       '19/04/2020', '20/04/2020', '21/04/2020', '22/04/2020',\n",
       "       '23/04/2020', '24/04/2020', '25/04/2020', '26/04/2020',\n",
       "       '27/04/2020', '28/04/2020', '29/04/2020', '30/04/2020',\n",
       "       '01/05/2020', '02/05/2020', '03/05/2020', '04/05/2020',\n",
       "       '05/05/2020', '06/05/2020', '07/05/2020', '18/07/2020',\n",
       "       '19/07/2020', '20/07/2020', '21/07/2020', '22/07/2020',\n",
       "       '23/07/2020', '24/07/2020', '25/07/2020', '26/07/2020',\n",
       "       '27/07/2020', '28/07/2020', '29/07/2020', '30/07/2020',\n",
       "       '31/07/2020', '01/08/2020', '02/08/2020', '03/08/2020',\n",
       "       '04/08/2020', '05/08/2020', '06/08/2020', '07/08/2020',\n",
       "       '08/08/2020', '09/08/2020', '10/08/2020', '11/08/2020',\n",
       "       '12/08/2020', '13/08/2020', '14/08/2020', '15/08/2020',\n",
       "       '16/08/2020', '17/08/2020', '18/08/2020', '19/08/2020',\n",
       "       '20/08/2020', '21/08/2020', '22/08/2020', '23/08/2020',\n",
       "       '24/08/2020', '25/08/2020', '26/08/2020', '27/08/2020',\n",
       "       '28/08/2020', '29/08/2020', '30/08/2020', '31/08/2020',\n",
       "       '01/09/2020', '02/09/2020', '03/09/2020', '04/09/2020',\n",
       "       '05/09/2020', '06/09/2020', '07/09/2020', '08/09/2020',\n",
       "       '09/09/2020', '10/09/2020', '11/09/2020', '12/09/2020',\n",
       "       '13/09/2020', '14/09/2020', '15/09/2020', '16/09/2020',\n",
       "       '20/10/2020', '21/10/2020', '22/10/2020', '23/10/2020',\n",
       "       '24/10/2020', '25/10/2020', '26/10/2020', '27/10/2020',\n",
       "       '28/10/2020', '29/10/2020', '30/10/2020', '31/10/2020',\n",
       "       '01/11/2020', '02/11/2020', '03/11/2020', '04/11/2020',\n",
       "       '05/11/2020', '06/11/2020', '07/11/2020', '08/11/2020',\n",
       "       '09/11/2020', '10/11/2020', '11/11/2020', '12/11/2020',\n",
       "       '13/11/2020', '14/11/2020', '15/11/2020', '22/12/2020',\n",
       "       '23/12/2020', '24/12/2020', '25/12/2020', '26/12/2020',\n",
       "       '27/12/2020', '28/12/2020', '29/12/2020', '30/12/2020',\n",
       "       '31/12/2020', '01/01/2021', '02/01/2021', '03/01/2021',\n",
       "       '04/01/2021', '05/01/2021', '06/01/2021', '07/01/2021',\n",
       "       '08/01/2021', '09/01/2021', '10/01/2021', '11/01/2021',\n",
       "       '12/01/2021', '13/01/2021', '14/01/2021', '15/01/2021',\n",
       "       '16/01/2021', '17/01/2021', '18/01/2021', '19/01/2021',\n",
       "       '20/01/2021', '21/01/2021', '22/01/2021', '23/01/2021',\n",
       "       '24/01/2021', '25/01/2021', '26/01/2021', '27/01/2021',\n",
       "       '28/01/2021', '29/01/2021', '30/01/2021', '31/01/2021',\n",
       "       '01/02/2021', '02/02/2021', '03/02/2021', '04/02/2021',\n",
       "       '05/02/2021', '06/02/2021', '07/02/2021', '08/02/2021',\n",
       "       '09/02/2021', '10/02/2021', '11/02/2021', '12/02/2021',\n",
       "       '13/02/2021', '14/02/2021', '15/02/2021', '16/02/2021',\n",
       "       '17/02/2021', '18/02/2021', '09/03/2021', '10/03/2021',\n",
       "       '11/03/2021', '12/03/2021', '13/03/2021', '14/03/2021',\n",
       "       '15/03/2021', '16/03/2021', '17/03/2021', '18/03/2021',\n",
       "       '19/03/2021', '20/03/2021', '21/03/2021', '22/03/2021',\n",
       "       '23/03/2021', '06/04/2021', '07/04/2021', '08/04/2021',\n",
       "       '09/04/2021', '10/04/2021', '11/04/2021', '12/04/2021',\n",
       "       '13/04/2021', '14/04/2021', '15/04/2021', '16/04/2021',\n",
       "       '17/04/2021', '18/04/2021', '19/04/2021', '20/04/2021',\n",
       "       '21/04/2021', '22/04/2021', '23/04/2021', '24/04/2021',\n",
       "       '25/04/2021', '26/04/2021', '27/04/2021', '28/04/2021',\n",
       "       '29/04/2021', '30/04/2021', '01/05/2021', '02/05/2021',\n",
       "       '03/05/2021', '04/05/2021', '05/05/2021', '06/05/2021',\n",
       "       '07/05/2021', '08/05/2021', '09/05/2021', '10/05/2021',\n",
       "       '11/05/2021', '12/05/2021', '13/05/2021', '14/05/2021',\n",
       "       '15/05/2021', '16/05/2021', '17/05/2021', '18/05/2021',\n",
       "       '19/05/2021', '20/05/2021', '21/05/2021', '22/05/2021',\n",
       "       '23/05/2021', '24/05/2021', '25/05/2021', '26/05/2021',\n",
       "       '27/05/2021', '28/05/2021', '29/05/2021', '30/05/2021',\n",
       "       '31/05/2021', '01/06/2021', '02/06/2021', '03/06/2021',\n",
       "       '04/06/2021', '05/06/2021', '06/06/2021', '07/06/2021',\n",
       "       '08/06/2021', '09/06/2021', '10/06/2021', '11/06/2021',\n",
       "       '12/06/2021', '13/06/2021', '14/06/2021', '15/06/2021',\n",
       "       '16/06/2021', '17/06/2021', '18/06/2021', '19/06/2021',\n",
       "       '20/06/2021', '21/06/2021', '22/06/2021', '23/06/2021',\n",
       "       '24/06/2021', '25/06/2021', '26/06/2021', '27/06/2021',\n",
       "       '28/06/2021', '29/06/2021', '30/06/2021', '01/07/2021',\n",
       "       '02/07/2021', '03/07/2021', '04/07/2021', '05/07/2021',\n",
       "       '06/07/2021', '07/07/2021', '08/07/2021', '09/07/2021',\n",
       "       '10/07/2021', '11/07/2021', '12/07/2021', '13/07/2021',\n",
       "       '14/07/2021', '15/07/2021', '16/07/2021', '17/07/2021',\n",
       "       '18/07/2021', '19/07/2021', '20/07/2021', '21/07/2021',\n",
       "       '22/07/2021', '23/07/2021', '24/07/2021', '25/07/2021',\n",
       "       '26/07/2021', '27/07/2021', '28/07/2021', '29/07/2021',\n",
       "       '30/07/2021', '31/07/2021', '01/08/2021', '02/08/2021',\n",
       "       '03/08/2021', '04/08/2021', '05/08/2021', '06/08/2021',\n",
       "       '07/08/2021', '08/08/2021', '09/08/2021', '10/08/2021',\n",
       "       '11/08/2021', '12/08/2021', '13/08/2021', '14/08/2021',\n",
       "       '15/08/2021', '16/08/2021', '17/08/2021', '18/08/2021',\n",
       "       '19/08/2021', '20/08/2021', '21/08/2021', '22/08/2021',\n",
       "       '23/08/2021', '24/08/2021', '25/08/2021', '26/08/2021',\n",
       "       '27/08/2021', '28/08/2021', '29/08/2021', '30/08/2021',\n",
       "       '31/08/2021', '01/09/2021', '02/09/2021', '03/09/2021',\n",
       "       '04/09/2021', '05/09/2021', '06/09/2021', '07/09/2021',\n",
       "       '08/09/2021', '09/09/2021', '10/09/2021', '11/09/2021',\n",
       "       '12/09/2021', '13/09/2021', '14/09/2021', '15/09/2021',\n",
       "       '16/09/2021', '17/09/2021', '18/09/2021', '19/09/2021',\n",
       "       '20/09/2021', '21/09/2021', '22/09/2021', '23/09/2021',\n",
       "       '24/09/2021', '25/09/2021', '26/09/2021', '27/09/2021',\n",
       "       '28/09/2021', '29/09/2021', '30/09/2021', '01/10/2021',\n",
       "       '02/10/2021', '03/10/2021', '04/10/2021', '05/10/2021',\n",
       "       '06/10/2021', '07/10/2021', '08/10/2021', '09/10/2021',\n",
       "       '10/10/2021', '11/10/2021', '12/10/2021', '13/10/2021',\n",
       "       '14/10/2021', '15/10/2021', '16/10/2021', '17/10/2021',\n",
       "       '18/10/2021', '19/10/2021', '20/10/2021', '21/10/2021',\n",
       "       '22/10/2021', '23/10/2021', '24/10/2021', '25/10/2021',\n",
       "       '26/10/2021', '27/10/2021', '28/10/2021', '29/10/2021',\n",
       "       '30/10/2021', '31/10/2021', '01/11/2021', '02/11/2021',\n",
       "       '03/11/2021', '04/11/2021', '05/11/2021', '06/11/2021',\n",
       "       '07/11/2021', '08/11/2021', '09/11/2021', '10/11/2021',\n",
       "       '11/11/2021', '12/11/2021', '13/11/2021', '14/11/2021',\n",
       "       '15/11/2021', '16/11/2021', '17/11/2021', '18/11/2021',\n",
       "       '19/11/2021', '20/11/2021', '21/11/2021', '22/11/2021',\n",
       "       '23/11/2021', '24/11/2021', '25/11/2021', '26/11/2021',\n",
       "       '27/11/2021', '28/11/2021', '29/11/2021', '30/11/2021',\n",
       "       '01/12/2021', '02/12/2021', '03/12/2021', '04/12/2021',\n",
       "       '05/12/2021', '06/12/2021', '07/12/2021', '08/12/2021',\n",
       "       '09/12/2021', '10/12/2021', '11/12/2021', '12/12/2021',\n",
       "       '13/12/2021', '14/12/2021', '15/12/2021', '16/12/2021',\n",
       "       '17/12/2021', '18/12/2021', '19/12/2021', '20/12/2021',\n",
       "       '21/12/2021', '22/12/2021', '23/12/2021', '24/12/2021',\n",
       "       '25/12/2021', '26/12/2021', '27/12/2021', '28/12/2021',\n",
       "       '29/12/2021', '30/12/2021', '31/12/2021', '09/01/2020',\n",
       "       '10/01/2020', '11/01/2020', '12/01/2020', '13/01/2020',\n",
       "       '14/01/2020', '15/01/2020', '16/01/2020', '17/01/2020',\n",
       "       '18/01/2020', '19/01/2020', '20/01/2020', '11/02/2020',\n",
       "       '12/02/2020', '13/02/2020', '14/02/2020', '15/02/2020',\n",
       "       '16/02/2020', '17/02/2020', '18/02/2020', '19/02/2020',\n",
       "       '20/02/2020', '21/02/2020', '22/02/2020', '23/02/2020',\n",
       "       '24/02/2020', '25/02/2020', '26/02/2020', '27/02/2020',\n",
       "       '28/02/2020', '01/03/2020', '02/03/2020', '19/03/2020',\n",
       "       '20/03/2020', '21/03/2020', '22/03/2020', '23/03/2020',\n",
       "       '24/03/2020', '25/03/2020', '26/03/2020', '27/03/2020',\n",
       "       '28/03/2020', '29/03/2020', '30/03/2020', '01/04/2020',\n",
       "       '02/04/2020', '03/04/2020', '04/04/2020', '05/04/2020',\n",
       "       '06/04/2020', '07/04/2020', '08/04/2020', '09/04/2020',\n",
       "       '10/04/2020', '11/04/2020', '12/04/2020', '13/04/2020',\n",
       "       '14/04/2020', '15/04/2020', '16/04/2020', '08/05/2020',\n",
       "       '09/05/2020', '10/05/2020', '11/05/2020', '12/05/2020',\n",
       "       '13/05/2020', '14/05/2020', '15/05/2020', '16/05/2020',\n",
       "       '17/05/2020', '18/05/2020', '19/05/2020', '20/05/2020',\n",
       "       '21/05/2020', '22/05/2020', '23/05/2020', '24/05/2020',\n",
       "       '25/05/2020', '26/05/2020', '27/05/2020', '28/05/2020',\n",
       "       '29/05/2020', '30/05/2020', '31/05/2020', '01/06/2020',\n",
       "       '02/06/2020', '03/06/2020', '04/06/2020', '05/06/2020',\n",
       "       '06/06/2020', '07/06/2020', '08/06/2020', '09/06/2020',\n",
       "       '10/06/2020', '11/06/2020', '12/06/2020', '13/06/2020',\n",
       "       '14/06/2020', '15/06/2020', '16/06/2020', '17/06/2020',\n",
       "       '18/06/2020', '19/06/2020', '20/06/2020', '21/06/2020',\n",
       "       '22/06/2020', '23/06/2020', '24/06/2020', '25/06/2020',\n",
       "       '26/06/2020', '27/06/2020', '28/06/2020', '29/06/2020',\n",
       "       '30/06/2020', '01/07/2020', '02/07/2020', '03/07/2020',\n",
       "       '04/07/2020', '05/07/2020', '06/07/2020', '07/07/2020',\n",
       "       '08/07/2020', '09/07/2020', '10/07/2020', '11/07/2020',\n",
       "       '12/07/2020', '13/07/2020', '14/07/2020', '15/07/2020',\n",
       "       '16/07/2020', '17/07/2020', '17/09/2020', '18/09/2020',\n",
       "       '19/09/2020', '20/09/2020', '21/09/2020', '22/09/2020',\n",
       "       '23/09/2020', '24/09/2020', '25/09/2020', '26/09/2020',\n",
       "       '27/09/2020', '28/09/2020', '29/09/2020', '30/09/2020',\n",
       "       '01/10/2020', '02/10/2020', '03/10/2020', '04/10/2020',\n",
       "       '05/10/2020', '06/10/2020', '07/10/2020', '08/10/2020',\n",
       "       '09/10/2020', '10/10/2020', '17/10/2020', '18/10/2020',\n",
       "       '19/10/2020', '16/11/2020', '17/11/2020', '18/11/2020',\n",
       "       '19/11/2020', '20/11/2020', '21/11/2020', '22/11/2020',\n",
       "       '23/11/2020', '24/11/2020', '25/11/2020', '26/11/2020',\n",
       "       '27/11/2020', '28/11/2020', '29/11/2020', '30/11/2020',\n",
       "       '01/12/2020', '02/12/2020', '03/12/2020', '04/12/2020',\n",
       "       '05/12/2020', '06/12/2020', '07/12/2020', '08/12/2020',\n",
       "       '09/12/2020', '10/12/2020', '11/12/2020', '12/12/2020',\n",
       "       '13/12/2020', '14/12/2020', '15/12/2020', '16/12/2020',\n",
       "       '17/12/2020', '18/12/2020', '19/12/2020', '20/12/2020',\n",
       "       '21/12/2020', '19/02/2021', '20/02/2021', '21/02/2021',\n",
       "       '22/02/2021', '23/02/2021', '24/02/2021', '25/02/2021',\n",
       "       '26/02/2021', '27/02/2021', '28/02/2021', '01/03/2021',\n",
       "       '02/03/2021', '03/03/2021', '04/03/2021', '05/03/2021',\n",
       "       '06/03/2021', '07/03/2021', '08/03/2021', '24/03/2021',\n",
       "       '25/03/2021', '26/03/2021', '27/03/2021', '28/03/2021',\n",
       "       '29/03/2021', '30/03/2021', '31/03/2021', '01/04/2021',\n",
       "       '02/04/2021', '03/04/2021', '04/04/2021', '05/04/2021'],\n",
       "      dtype=object)"
      ]
     },
     "execution_count": 14,
     "metadata": {},
     "output_type": "execute_result"
    }
   ],
   "source": [
    "data['Invoice Date'].unique()"
   ]
  },
  {
   "cell_type": "code",
   "execution_count": 15,
   "metadata": {},
   "outputs": [
    {
     "data": {
      "text/plain": [
       "array([datetime.date(2020, 1, 1), datetime.date(2020, 2, 1),\n",
       "       datetime.date(2020, 3, 1), datetime.date(2020, 4, 1),\n",
       "       datetime.date(2020, 5, 1), datetime.date(2020, 6, 1),\n",
       "       datetime.date(2020, 7, 1), datetime.date(2020, 8, 1),\n",
       "       datetime.date(2020, 1, 21), datetime.date(2020, 1, 22),\n",
       "       datetime.date(2020, 1, 23), datetime.date(2020, 1, 24),\n",
       "       datetime.date(2020, 1, 25), datetime.date(2020, 1, 26),\n",
       "       datetime.date(2020, 1, 27), datetime.date(2020, 1, 28),\n",
       "       datetime.date(2020, 1, 29), datetime.date(2020, 1, 30),\n",
       "       datetime.date(2020, 1, 31), datetime.date(2020, 1, 2),\n",
       "       datetime.date(2020, 2, 2), datetime.date(2020, 3, 2),\n",
       "       datetime.date(2020, 4, 2), datetime.date(2020, 5, 2),\n",
       "       datetime.date(2020, 6, 2), datetime.date(2020, 7, 2),\n",
       "       datetime.date(2020, 8, 2), datetime.date(2020, 9, 2),\n",
       "       datetime.date(2020, 10, 2), datetime.date(2020, 3, 3),\n",
       "       datetime.date(2020, 4, 3), datetime.date(2020, 5, 3),\n",
       "       datetime.date(2020, 6, 3), datetime.date(2020, 7, 3),\n",
       "       datetime.date(2020, 8, 3), datetime.date(2020, 9, 3),\n",
       "       datetime.date(2020, 10, 3), datetime.date(2020, 11, 3),\n",
       "       datetime.date(2020, 12, 3), datetime.date(2020, 3, 13),\n",
       "       datetime.date(2020, 3, 14), datetime.date(2020, 3, 15),\n",
       "       datetime.date(2020, 3, 16), datetime.date(2020, 3, 17),\n",
       "       datetime.date(2020, 3, 18), datetime.date(2020, 3, 31),\n",
       "       datetime.date(2020, 4, 17), datetime.date(2020, 4, 18),\n",
       "       datetime.date(2020, 4, 19), datetime.date(2020, 4, 20),\n",
       "       datetime.date(2020, 4, 21), datetime.date(2020, 4, 22),\n",
       "       datetime.date(2020, 4, 23), datetime.date(2020, 4, 24),\n",
       "       datetime.date(2020, 4, 25), datetime.date(2020, 4, 26),\n",
       "       datetime.date(2020, 4, 27), datetime.date(2020, 4, 28),\n",
       "       datetime.date(2020, 4, 29), datetime.date(2020, 4, 30),\n",
       "       datetime.date(2020, 1, 5), datetime.date(2020, 2, 5),\n",
       "       datetime.date(2020, 3, 5), datetime.date(2020, 4, 5),\n",
       "       datetime.date(2020, 5, 5), datetime.date(2020, 6, 5),\n",
       "       datetime.date(2020, 7, 5), datetime.date(2020, 7, 18),\n",
       "       datetime.date(2020, 7, 19), datetime.date(2020, 7, 20),\n",
       "       datetime.date(2020, 7, 21), datetime.date(2020, 7, 22),\n",
       "       datetime.date(2020, 7, 23), datetime.date(2020, 7, 24),\n",
       "       datetime.date(2020, 7, 25), datetime.date(2020, 7, 26),\n",
       "       datetime.date(2020, 7, 27), datetime.date(2020, 7, 28),\n",
       "       datetime.date(2020, 7, 29), datetime.date(2020, 7, 30),\n",
       "       datetime.date(2020, 7, 31), datetime.date(2020, 1, 8),\n",
       "       datetime.date(2020, 2, 8), datetime.date(2020, 3, 8),\n",
       "       datetime.date(2020, 4, 8), datetime.date(2020, 5, 8),\n",
       "       datetime.date(2020, 6, 8), datetime.date(2020, 7, 8),\n",
       "       datetime.date(2020, 8, 8), datetime.date(2020, 9, 8),\n",
       "       datetime.date(2020, 10, 8), datetime.date(2020, 11, 8),\n",
       "       datetime.date(2020, 12, 8), datetime.date(2020, 8, 13),\n",
       "       datetime.date(2020, 8, 14), datetime.date(2020, 8, 15),\n",
       "       datetime.date(2020, 8, 16), datetime.date(2020, 8, 17),\n",
       "       datetime.date(2020, 8, 18), datetime.date(2020, 8, 19),\n",
       "       datetime.date(2020, 8, 20), datetime.date(2020, 8, 21),\n",
       "       datetime.date(2020, 8, 22), datetime.date(2020, 8, 23),\n",
       "       datetime.date(2020, 8, 24), datetime.date(2020, 8, 25),\n",
       "       datetime.date(2020, 8, 26), datetime.date(2020, 8, 27),\n",
       "       datetime.date(2020, 8, 28), datetime.date(2020, 8, 29),\n",
       "       datetime.date(2020, 8, 30), datetime.date(2020, 8, 31),\n",
       "       datetime.date(2020, 1, 9), datetime.date(2020, 2, 9),\n",
       "       datetime.date(2020, 3, 9), datetime.date(2020, 4, 9),\n",
       "       datetime.date(2020, 5, 9), datetime.date(2020, 6, 9),\n",
       "       datetime.date(2020, 7, 9), datetime.date(2020, 8, 9),\n",
       "       datetime.date(2020, 9, 9), datetime.date(2020, 10, 9),\n",
       "       datetime.date(2020, 11, 9), datetime.date(2020, 12, 9),\n",
       "       datetime.date(2020, 9, 13), datetime.date(2020, 9, 14),\n",
       "       datetime.date(2020, 9, 15), datetime.date(2020, 9, 16),\n",
       "       datetime.date(2020, 10, 20), datetime.date(2020, 10, 21),\n",
       "       datetime.date(2020, 10, 22), datetime.date(2020, 10, 23),\n",
       "       datetime.date(2020, 10, 24), datetime.date(2020, 10, 25),\n",
       "       datetime.date(2020, 10, 26), datetime.date(2020, 10, 27),\n",
       "       datetime.date(2020, 10, 28), datetime.date(2020, 10, 29),\n",
       "       datetime.date(2020, 10, 30), datetime.date(2020, 10, 31),\n",
       "       datetime.date(2020, 1, 11), datetime.date(2020, 2, 11),\n",
       "       datetime.date(2020, 3, 11), datetime.date(2020, 4, 11),\n",
       "       datetime.date(2020, 5, 11), datetime.date(2020, 6, 11),\n",
       "       datetime.date(2020, 7, 11), datetime.date(2020, 8, 11),\n",
       "       datetime.date(2020, 9, 11), datetime.date(2020, 10, 11),\n",
       "       datetime.date(2020, 11, 11), datetime.date(2020, 12, 11),\n",
       "       datetime.date(2020, 11, 13), datetime.date(2020, 11, 14),\n",
       "       datetime.date(2020, 11, 15), datetime.date(2020, 12, 22),\n",
       "       datetime.date(2020, 12, 23), datetime.date(2020, 12, 24),\n",
       "       datetime.date(2020, 12, 25), datetime.date(2020, 12, 26),\n",
       "       datetime.date(2020, 12, 27), datetime.date(2020, 12, 28),\n",
       "       datetime.date(2020, 12, 29), datetime.date(2020, 12, 30),\n",
       "       datetime.date(2020, 12, 31), datetime.date(2021, 1, 1),\n",
       "       datetime.date(2021, 2, 1), datetime.date(2021, 3, 1),\n",
       "       datetime.date(2021, 4, 1), datetime.date(2021, 5, 1),\n",
       "       datetime.date(2021, 6, 1), datetime.date(2021, 7, 1),\n",
       "       datetime.date(2021, 8, 1), datetime.date(2021, 9, 1),\n",
       "       datetime.date(2021, 10, 1), datetime.date(2021, 11, 1),\n",
       "       datetime.date(2021, 12, 1), datetime.date(2021, 1, 13),\n",
       "       datetime.date(2021, 1, 14), datetime.date(2021, 1, 15),\n",
       "       datetime.date(2021, 1, 16), datetime.date(2021, 1, 17),\n",
       "       datetime.date(2021, 1, 18), datetime.date(2021, 1, 19),\n",
       "       datetime.date(2021, 1, 20), datetime.date(2021, 1, 21),\n",
       "       datetime.date(2021, 1, 22), datetime.date(2021, 1, 23),\n",
       "       datetime.date(2021, 1, 24), datetime.date(2021, 1, 25),\n",
       "       datetime.date(2021, 1, 26), datetime.date(2021, 1, 27),\n",
       "       datetime.date(2021, 1, 28), datetime.date(2021, 1, 29),\n",
       "       datetime.date(2021, 1, 30), datetime.date(2021, 1, 31),\n",
       "       datetime.date(2021, 1, 2), datetime.date(2021, 2, 2),\n",
       "       datetime.date(2021, 3, 2), datetime.date(2021, 4, 2),\n",
       "       datetime.date(2021, 5, 2), datetime.date(2021, 6, 2),\n",
       "       datetime.date(2021, 7, 2), datetime.date(2021, 8, 2),\n",
       "       datetime.date(2021, 9, 2), datetime.date(2021, 10, 2),\n",
       "       datetime.date(2021, 11, 2), datetime.date(2021, 12, 2),\n",
       "       datetime.date(2021, 2, 13), datetime.date(2021, 2, 14),\n",
       "       datetime.date(2021, 2, 15), datetime.date(2021, 2, 16),\n",
       "       datetime.date(2021, 2, 17), datetime.date(2021, 2, 18),\n",
       "       datetime.date(2021, 9, 3), datetime.date(2021, 10, 3),\n",
       "       datetime.date(2021, 11, 3), datetime.date(2021, 12, 3),\n",
       "       datetime.date(2021, 3, 13), datetime.date(2021, 3, 14),\n",
       "       datetime.date(2021, 3, 15), datetime.date(2021, 3, 16),\n",
       "       datetime.date(2021, 3, 17), datetime.date(2021, 3, 18),\n",
       "       datetime.date(2021, 3, 19), datetime.date(2021, 3, 20),\n",
       "       datetime.date(2021, 3, 21), datetime.date(2021, 3, 22),\n",
       "       datetime.date(2021, 3, 23), datetime.date(2021, 6, 4),\n",
       "       datetime.date(2021, 7, 4), datetime.date(2021, 8, 4),\n",
       "       datetime.date(2021, 9, 4), datetime.date(2021, 10, 4),\n",
       "       datetime.date(2021, 11, 4), datetime.date(2021, 12, 4),\n",
       "       datetime.date(2021, 4, 13), datetime.date(2021, 4, 14),\n",
       "       datetime.date(2021, 4, 15), datetime.date(2021, 4, 16),\n",
       "       datetime.date(2021, 4, 17), datetime.date(2021, 4, 18),\n",
       "       datetime.date(2021, 4, 19), datetime.date(2021, 4, 20),\n",
       "       datetime.date(2021, 4, 21), datetime.date(2021, 4, 22),\n",
       "       datetime.date(2021, 4, 23), datetime.date(2021, 4, 24),\n",
       "       datetime.date(2021, 4, 25), datetime.date(2021, 4, 26),\n",
       "       datetime.date(2021, 4, 27), datetime.date(2021, 4, 28),\n",
       "       datetime.date(2021, 4, 29), datetime.date(2021, 4, 30),\n",
       "       datetime.date(2021, 1, 5), datetime.date(2021, 2, 5),\n",
       "       datetime.date(2021, 3, 5), datetime.date(2021, 4, 5),\n",
       "       datetime.date(2021, 5, 5), datetime.date(2021, 6, 5),\n",
       "       datetime.date(2021, 7, 5), datetime.date(2021, 8, 5),\n",
       "       datetime.date(2021, 9, 5), datetime.date(2021, 10, 5),\n",
       "       datetime.date(2021, 11, 5), datetime.date(2021, 12, 5),\n",
       "       datetime.date(2021, 5, 13), datetime.date(2021, 5, 14),\n",
       "       datetime.date(2021, 5, 15), datetime.date(2021, 5, 16),\n",
       "       datetime.date(2021, 5, 17), datetime.date(2021, 5, 18),\n",
       "       datetime.date(2021, 5, 19), datetime.date(2021, 5, 20),\n",
       "       datetime.date(2021, 5, 21), datetime.date(2021, 5, 22),\n",
       "       datetime.date(2021, 5, 23), datetime.date(2021, 5, 24),\n",
       "       datetime.date(2021, 5, 25), datetime.date(2021, 5, 26),\n",
       "       datetime.date(2021, 5, 27), datetime.date(2021, 5, 28),\n",
       "       datetime.date(2021, 5, 29), datetime.date(2021, 5, 30),\n",
       "       datetime.date(2021, 5, 31), datetime.date(2021, 1, 6),\n",
       "       datetime.date(2021, 2, 6), datetime.date(2021, 3, 6),\n",
       "       datetime.date(2021, 4, 6), datetime.date(2021, 5, 6),\n",
       "       datetime.date(2021, 6, 6), datetime.date(2021, 7, 6),\n",
       "       datetime.date(2021, 8, 6), datetime.date(2021, 9, 6),\n",
       "       datetime.date(2021, 10, 6), datetime.date(2021, 11, 6),\n",
       "       datetime.date(2021, 12, 6), datetime.date(2021, 6, 13),\n",
       "       datetime.date(2021, 6, 14), datetime.date(2021, 6, 15),\n",
       "       datetime.date(2021, 6, 16), datetime.date(2021, 6, 17),\n",
       "       datetime.date(2021, 6, 18), datetime.date(2021, 6, 19),\n",
       "       datetime.date(2021, 6, 20), datetime.date(2021, 6, 21),\n",
       "       datetime.date(2021, 6, 22), datetime.date(2021, 6, 23),\n",
       "       datetime.date(2021, 6, 24), datetime.date(2021, 6, 25),\n",
       "       datetime.date(2021, 6, 26), datetime.date(2021, 6, 27),\n",
       "       datetime.date(2021, 6, 28), datetime.date(2021, 6, 29),\n",
       "       datetime.date(2021, 6, 30), datetime.date(2021, 1, 7),\n",
       "       datetime.date(2021, 2, 7), datetime.date(2021, 3, 7),\n",
       "       datetime.date(2021, 4, 7), datetime.date(2021, 5, 7),\n",
       "       datetime.date(2021, 6, 7), datetime.date(2021, 7, 7),\n",
       "       datetime.date(2021, 8, 7), datetime.date(2021, 9, 7),\n",
       "       datetime.date(2021, 10, 7), datetime.date(2021, 11, 7),\n",
       "       datetime.date(2021, 12, 7), datetime.date(2021, 7, 13),\n",
       "       datetime.date(2021, 7, 14), datetime.date(2021, 7, 15),\n",
       "       datetime.date(2021, 7, 16), datetime.date(2021, 7, 17),\n",
       "       datetime.date(2021, 7, 18), datetime.date(2021, 7, 19),\n",
       "       datetime.date(2021, 7, 20), datetime.date(2021, 7, 21),\n",
       "       datetime.date(2021, 7, 22), datetime.date(2021, 7, 23),\n",
       "       datetime.date(2021, 7, 24), datetime.date(2021, 7, 25),\n",
       "       datetime.date(2021, 7, 26), datetime.date(2021, 7, 27),\n",
       "       datetime.date(2021, 7, 28), datetime.date(2021, 7, 29),\n",
       "       datetime.date(2021, 7, 30), datetime.date(2021, 7, 31),\n",
       "       datetime.date(2021, 1, 8), datetime.date(2021, 2, 8),\n",
       "       datetime.date(2021, 3, 8), datetime.date(2021, 4, 8),\n",
       "       datetime.date(2021, 5, 8), datetime.date(2021, 6, 8),\n",
       "       datetime.date(2021, 7, 8), datetime.date(2021, 8, 8),\n",
       "       datetime.date(2021, 9, 8), datetime.date(2021, 10, 8),\n",
       "       datetime.date(2021, 11, 8), datetime.date(2021, 12, 8),\n",
       "       datetime.date(2021, 8, 13), datetime.date(2021, 8, 14),\n",
       "       datetime.date(2021, 8, 15), datetime.date(2021, 8, 16),\n",
       "       datetime.date(2021, 8, 17), datetime.date(2021, 8, 18),\n",
       "       datetime.date(2021, 8, 19), datetime.date(2021, 8, 20),\n",
       "       datetime.date(2021, 8, 21), datetime.date(2021, 8, 22),\n",
       "       datetime.date(2021, 8, 23), datetime.date(2021, 8, 24),\n",
       "       datetime.date(2021, 8, 25), datetime.date(2021, 8, 26),\n",
       "       datetime.date(2021, 8, 27), datetime.date(2021, 8, 28),\n",
       "       datetime.date(2021, 8, 29), datetime.date(2021, 8, 30),\n",
       "       datetime.date(2021, 8, 31), datetime.date(2021, 1, 9),\n",
       "       datetime.date(2021, 2, 9), datetime.date(2021, 3, 9),\n",
       "       datetime.date(2021, 4, 9), datetime.date(2021, 5, 9),\n",
       "       datetime.date(2021, 6, 9), datetime.date(2021, 7, 9),\n",
       "       datetime.date(2021, 8, 9), datetime.date(2021, 9, 9),\n",
       "       datetime.date(2021, 10, 9), datetime.date(2021, 11, 9),\n",
       "       datetime.date(2021, 12, 9), datetime.date(2021, 9, 13),\n",
       "       datetime.date(2021, 9, 14), datetime.date(2021, 9, 15),\n",
       "       datetime.date(2021, 9, 16), datetime.date(2021, 9, 17),\n",
       "       datetime.date(2021, 9, 18), datetime.date(2021, 9, 19),\n",
       "       datetime.date(2021, 9, 20), datetime.date(2021, 9, 21),\n",
       "       datetime.date(2021, 9, 22), datetime.date(2021, 9, 23),\n",
       "       datetime.date(2021, 9, 24), datetime.date(2021, 9, 25),\n",
       "       datetime.date(2021, 9, 26), datetime.date(2021, 9, 27),\n",
       "       datetime.date(2021, 9, 28), datetime.date(2021, 9, 29),\n",
       "       datetime.date(2021, 9, 30), datetime.date(2021, 1, 10),\n",
       "       datetime.date(2021, 2, 10), datetime.date(2021, 3, 10),\n",
       "       datetime.date(2021, 4, 10), datetime.date(2021, 5, 10),\n",
       "       datetime.date(2021, 6, 10), datetime.date(2021, 7, 10),\n",
       "       datetime.date(2021, 8, 10), datetime.date(2021, 9, 10),\n",
       "       datetime.date(2021, 10, 10), datetime.date(2021, 11, 10),\n",
       "       datetime.date(2021, 12, 10), datetime.date(2021, 10, 13),\n",
       "       datetime.date(2021, 10, 14), datetime.date(2021, 10, 15),\n",
       "       datetime.date(2021, 10, 16), datetime.date(2021, 10, 17),\n",
       "       datetime.date(2021, 10, 18), datetime.date(2021, 10, 19),\n",
       "       datetime.date(2021, 10, 20), datetime.date(2021, 10, 21),\n",
       "       datetime.date(2021, 10, 22), datetime.date(2021, 10, 23),\n",
       "       datetime.date(2021, 10, 24), datetime.date(2021, 10, 25),\n",
       "       datetime.date(2021, 10, 26), datetime.date(2021, 10, 27),\n",
       "       datetime.date(2021, 10, 28), datetime.date(2021, 10, 29),\n",
       "       datetime.date(2021, 10, 30), datetime.date(2021, 10, 31),\n",
       "       datetime.date(2021, 1, 11), datetime.date(2021, 2, 11),\n",
       "       datetime.date(2021, 3, 11), datetime.date(2021, 4, 11),\n",
       "       datetime.date(2021, 5, 11), datetime.date(2021, 6, 11),\n",
       "       datetime.date(2021, 7, 11), datetime.date(2021, 8, 11),\n",
       "       datetime.date(2021, 9, 11), datetime.date(2021, 10, 11),\n",
       "       datetime.date(2021, 11, 11), datetime.date(2021, 12, 11),\n",
       "       datetime.date(2021, 11, 13), datetime.date(2021, 11, 14),\n",
       "       datetime.date(2021, 11, 15), datetime.date(2021, 11, 16),\n",
       "       datetime.date(2021, 11, 17), datetime.date(2021, 11, 18),\n",
       "       datetime.date(2021, 11, 19), datetime.date(2021, 11, 20),\n",
       "       datetime.date(2021, 11, 21), datetime.date(2021, 11, 22),\n",
       "       datetime.date(2021, 11, 23), datetime.date(2021, 11, 24),\n",
       "       datetime.date(2021, 11, 25), datetime.date(2021, 11, 26),\n",
       "       datetime.date(2021, 11, 27), datetime.date(2021, 11, 28),\n",
       "       datetime.date(2021, 11, 29), datetime.date(2021, 11, 30),\n",
       "       datetime.date(2021, 1, 12), datetime.date(2021, 2, 12),\n",
       "       datetime.date(2021, 3, 12), datetime.date(2021, 4, 12),\n",
       "       datetime.date(2021, 5, 12), datetime.date(2021, 6, 12),\n",
       "       datetime.date(2021, 7, 12), datetime.date(2021, 8, 12),\n",
       "       datetime.date(2021, 9, 12), datetime.date(2021, 10, 12),\n",
       "       datetime.date(2021, 11, 12), datetime.date(2021, 12, 12),\n",
       "       datetime.date(2021, 12, 13), datetime.date(2021, 12, 14),\n",
       "       datetime.date(2021, 12, 15), datetime.date(2021, 12, 16),\n",
       "       datetime.date(2021, 12, 17), datetime.date(2021, 12, 18),\n",
       "       datetime.date(2021, 12, 19), datetime.date(2021, 12, 20),\n",
       "       datetime.date(2021, 12, 21), datetime.date(2021, 12, 22),\n",
       "       datetime.date(2021, 12, 23), datetime.date(2021, 12, 24),\n",
       "       datetime.date(2021, 12, 25), datetime.date(2021, 12, 26),\n",
       "       datetime.date(2021, 12, 27), datetime.date(2021, 12, 28),\n",
       "       datetime.date(2021, 12, 29), datetime.date(2021, 12, 30),\n",
       "       datetime.date(2021, 12, 31), datetime.date(2020, 9, 1),\n",
       "       datetime.date(2020, 10, 1), datetime.date(2020, 11, 1),\n",
       "       datetime.date(2020, 12, 1), datetime.date(2020, 1, 13),\n",
       "       datetime.date(2020, 1, 14), datetime.date(2020, 1, 15),\n",
       "       datetime.date(2020, 1, 16), datetime.date(2020, 1, 17),\n",
       "       datetime.date(2020, 1, 18), datetime.date(2020, 1, 19),\n",
       "       datetime.date(2020, 1, 20), datetime.date(2020, 11, 2),\n",
       "       datetime.date(2020, 12, 2), datetime.date(2020, 2, 13),\n",
       "       datetime.date(2020, 2, 14), datetime.date(2020, 2, 15),\n",
       "       datetime.date(2020, 2, 16), datetime.date(2020, 2, 17),\n",
       "       datetime.date(2020, 2, 18), datetime.date(2020, 2, 19),\n",
       "       datetime.date(2020, 2, 20), datetime.date(2020, 2, 21),\n",
       "       datetime.date(2020, 2, 22), datetime.date(2020, 2, 23),\n",
       "       datetime.date(2020, 2, 24), datetime.date(2020, 2, 25),\n",
       "       datetime.date(2020, 2, 26), datetime.date(2020, 2, 27),\n",
       "       datetime.date(2020, 2, 28), datetime.date(2020, 1, 3),\n",
       "       datetime.date(2020, 2, 3), datetime.date(2020, 3, 19),\n",
       "       datetime.date(2020, 3, 20), datetime.date(2020, 3, 21),\n",
       "       datetime.date(2020, 3, 22), datetime.date(2020, 3, 23),\n",
       "       datetime.date(2020, 3, 24), datetime.date(2020, 3, 25),\n",
       "       datetime.date(2020, 3, 26), datetime.date(2020, 3, 27),\n",
       "       datetime.date(2020, 3, 28), datetime.date(2020, 3, 29),\n",
       "       datetime.date(2020, 3, 30), datetime.date(2020, 1, 4),\n",
       "       datetime.date(2020, 2, 4), datetime.date(2020, 3, 4),\n",
       "       datetime.date(2020, 4, 4), datetime.date(2020, 5, 4),\n",
       "       datetime.date(2020, 6, 4), datetime.date(2020, 7, 4),\n",
       "       datetime.date(2020, 8, 4), datetime.date(2020, 9, 4),\n",
       "       datetime.date(2020, 10, 4), datetime.date(2020, 11, 4),\n",
       "       datetime.date(2020, 12, 4), datetime.date(2020, 4, 13),\n",
       "       datetime.date(2020, 4, 14), datetime.date(2020, 4, 15),\n",
       "       datetime.date(2020, 4, 16), datetime.date(2020, 8, 5),\n",
       "       datetime.date(2020, 9, 5), datetime.date(2020, 10, 5),\n",
       "       datetime.date(2020, 11, 5), datetime.date(2020, 12, 5),\n",
       "       datetime.date(2020, 5, 13), datetime.date(2020, 5, 14),\n",
       "       datetime.date(2020, 5, 15), datetime.date(2020, 5, 16),\n",
       "       datetime.date(2020, 5, 17), datetime.date(2020, 5, 18),\n",
       "       datetime.date(2020, 5, 19), datetime.date(2020, 5, 20),\n",
       "       datetime.date(2020, 5, 21), datetime.date(2020, 5, 22),\n",
       "       datetime.date(2020, 5, 23), datetime.date(2020, 5, 24),\n",
       "       datetime.date(2020, 5, 25), datetime.date(2020, 5, 26),\n",
       "       datetime.date(2020, 5, 27), datetime.date(2020, 5, 28),\n",
       "       datetime.date(2020, 5, 29), datetime.date(2020, 5, 30),\n",
       "       datetime.date(2020, 5, 31), datetime.date(2020, 1, 6),\n",
       "       datetime.date(2020, 2, 6), datetime.date(2020, 3, 6),\n",
       "       datetime.date(2020, 4, 6), datetime.date(2020, 5, 6),\n",
       "       datetime.date(2020, 6, 6), datetime.date(2020, 7, 6),\n",
       "       datetime.date(2020, 8, 6), datetime.date(2020, 9, 6),\n",
       "       datetime.date(2020, 10, 6), datetime.date(2020, 11, 6),\n",
       "       datetime.date(2020, 12, 6), datetime.date(2020, 6, 13),\n",
       "       datetime.date(2020, 6, 14), datetime.date(2020, 6, 15),\n",
       "       datetime.date(2020, 6, 16), datetime.date(2020, 6, 17),\n",
       "       datetime.date(2020, 6, 18), datetime.date(2020, 6, 19),\n",
       "       datetime.date(2020, 6, 20), datetime.date(2020, 6, 21),\n",
       "       datetime.date(2020, 6, 22), datetime.date(2020, 6, 23),\n",
       "       datetime.date(2020, 6, 24), datetime.date(2020, 6, 25),\n",
       "       datetime.date(2020, 6, 26), datetime.date(2020, 6, 27),\n",
       "       datetime.date(2020, 6, 28), datetime.date(2020, 6, 29),\n",
       "       datetime.date(2020, 6, 30), datetime.date(2020, 1, 7),\n",
       "       datetime.date(2020, 2, 7), datetime.date(2020, 3, 7),\n",
       "       datetime.date(2020, 4, 7), datetime.date(2020, 5, 7),\n",
       "       datetime.date(2020, 6, 7), datetime.date(2020, 7, 7),\n",
       "       datetime.date(2020, 8, 7), datetime.date(2020, 9, 7),\n",
       "       datetime.date(2020, 10, 7), datetime.date(2020, 11, 7),\n",
       "       datetime.date(2020, 12, 7), datetime.date(2020, 7, 13),\n",
       "       datetime.date(2020, 7, 14), datetime.date(2020, 7, 15),\n",
       "       datetime.date(2020, 7, 16), datetime.date(2020, 7, 17),\n",
       "       datetime.date(2020, 9, 17), datetime.date(2020, 9, 18),\n",
       "       datetime.date(2020, 9, 19), datetime.date(2020, 9, 20),\n",
       "       datetime.date(2020, 9, 21), datetime.date(2020, 9, 22),\n",
       "       datetime.date(2020, 9, 23), datetime.date(2020, 9, 24),\n",
       "       datetime.date(2020, 9, 25), datetime.date(2020, 9, 26),\n",
       "       datetime.date(2020, 9, 27), datetime.date(2020, 9, 28),\n",
       "       datetime.date(2020, 9, 29), datetime.date(2020, 9, 30),\n",
       "       datetime.date(2020, 1, 10), datetime.date(2020, 2, 10),\n",
       "       datetime.date(2020, 3, 10), datetime.date(2020, 4, 10),\n",
       "       datetime.date(2020, 5, 10), datetime.date(2020, 6, 10),\n",
       "       datetime.date(2020, 7, 10), datetime.date(2020, 8, 10),\n",
       "       datetime.date(2020, 9, 10), datetime.date(2020, 10, 10),\n",
       "       datetime.date(2020, 10, 17), datetime.date(2020, 10, 18),\n",
       "       datetime.date(2020, 10, 19), datetime.date(2020, 11, 16),\n",
       "       datetime.date(2020, 11, 17), datetime.date(2020, 11, 18),\n",
       "       datetime.date(2020, 11, 19), datetime.date(2020, 11, 20),\n",
       "       datetime.date(2020, 11, 21), datetime.date(2020, 11, 22),\n",
       "       datetime.date(2020, 11, 23), datetime.date(2020, 11, 24),\n",
       "       datetime.date(2020, 11, 25), datetime.date(2020, 11, 26),\n",
       "       datetime.date(2020, 11, 27), datetime.date(2020, 11, 28),\n",
       "       datetime.date(2020, 11, 29), datetime.date(2020, 11, 30),\n",
       "       datetime.date(2020, 1, 12), datetime.date(2020, 2, 12),\n",
       "       datetime.date(2020, 3, 12), datetime.date(2020, 4, 12),\n",
       "       datetime.date(2020, 5, 12), datetime.date(2020, 6, 12),\n",
       "       datetime.date(2020, 7, 12), datetime.date(2020, 8, 12),\n",
       "       datetime.date(2020, 9, 12), datetime.date(2020, 10, 12),\n",
       "       datetime.date(2020, 11, 12), datetime.date(2020, 12, 12),\n",
       "       datetime.date(2020, 12, 13), datetime.date(2020, 12, 14),\n",
       "       datetime.date(2020, 12, 15), datetime.date(2020, 12, 16),\n",
       "       datetime.date(2020, 12, 17), datetime.date(2020, 12, 18),\n",
       "       datetime.date(2020, 12, 19), datetime.date(2020, 12, 20),\n",
       "       datetime.date(2020, 12, 21), datetime.date(2021, 2, 19),\n",
       "       datetime.date(2021, 2, 20), datetime.date(2021, 2, 21),\n",
       "       datetime.date(2021, 2, 22), datetime.date(2021, 2, 23),\n",
       "       datetime.date(2021, 2, 24), datetime.date(2021, 2, 25),\n",
       "       datetime.date(2021, 2, 26), datetime.date(2021, 2, 27),\n",
       "       datetime.date(2021, 2, 28), datetime.date(2021, 1, 3),\n",
       "       datetime.date(2021, 2, 3), datetime.date(2021, 3, 3),\n",
       "       datetime.date(2021, 4, 3), datetime.date(2021, 5, 3),\n",
       "       datetime.date(2021, 6, 3), datetime.date(2021, 7, 3),\n",
       "       datetime.date(2021, 8, 3), datetime.date(2021, 3, 24),\n",
       "       datetime.date(2021, 3, 25), datetime.date(2021, 3, 26),\n",
       "       datetime.date(2021, 3, 27), datetime.date(2021, 3, 28),\n",
       "       datetime.date(2021, 3, 29), datetime.date(2021, 3, 30),\n",
       "       datetime.date(2021, 3, 31), datetime.date(2021, 1, 4),\n",
       "       datetime.date(2021, 2, 4), datetime.date(2021, 3, 4),\n",
       "       datetime.date(2021, 4, 4), datetime.date(2021, 5, 4)], dtype=object)"
      ]
     },
     "execution_count": 15,
     "metadata": {},
     "output_type": "execute_result"
    }
   ],
   "source": [
    "# dates are normalized, but we need to convert them to a datetime so sorting works fine\n",
    "data['Invoice Date'] = pd.to_datetime(data['Invoice Date']).dt.date\n",
    "data['Invoice Date'].unique()\n"
   ]
  },
  {
   "cell_type": "markdown",
   "metadata": {},
   "source": [
    "### - Region, State, City"
   ]
  },
  {
   "cell_type": "code",
   "execution_count": 16,
   "metadata": {},
   "outputs": [
    {
     "data": {
      "text/plain": [
       "array(['Northeast', 'South', 'West', 'Midwest', 'Southeast'], dtype=object)"
      ]
     },
     "execution_count": 16,
     "metadata": {},
     "output_type": "execute_result"
    }
   ],
   "source": [
    "data['Region'].unique()"
   ]
  },
  {
   "cell_type": "code",
   "execution_count": 17,
   "metadata": {},
   "outputs": [
    {
     "data": {
      "text/plain": [
       "array(['New York', 'Texas', 'California', 'Illinois', 'Pennsylvania',\n",
       "       'Nevada', 'Colorado', 'Washington', 'Florida', 'Minnesota',\n",
       "       'Montana', 'Tennessee', 'Nebraska', 'Alabama', 'Maine', 'Alaska',\n",
       "       'Hawaii', 'Wyoming', 'Virginia', 'Michigan', 'Missouri', 'Utah',\n",
       "       'Oregon', 'Louisiana', 'Idaho', 'Arizona', 'New Mexico', 'Georgia',\n",
       "       'South Carolina', 'North Carolina', 'Ohio', 'Kentucky',\n",
       "       'Mississippi', 'Arkansas', 'Oklahoma', 'Kansas', 'South Dakota',\n",
       "       'North Dakota', 'Iowa', 'Wisconsin', 'Indiana', 'West Virginia',\n",
       "       'Maryland', 'Delaware', 'New Jersey', 'Connecticut',\n",
       "       'Rhode Island', 'Massachusetts', 'Vermont', 'New Hampshire'],\n",
       "      dtype=object)"
      ]
     },
     "execution_count": 17,
     "metadata": {},
     "output_type": "execute_result"
    }
   ],
   "source": [
    "data['State'].unique()"
   ]
  },
  {
   "cell_type": "code",
   "execution_count": 18,
   "metadata": {},
   "outputs": [
    {
     "data": {
      "text/plain": [
       "array(['New York', 'Houston', 'San Francisco', 'Los Angeles', 'Chicago',\n",
       "       'Dallas', 'Philadelphia', 'Las Vegas', 'Denver', 'Seattle',\n",
       "       'Miami', 'Minneapolis', 'Billings', 'Knoxville', 'Omaha',\n",
       "       'Birmingham', 'Portland', 'Anchorage', 'Honolulu', 'Orlando',\n",
       "       'Albany', 'Cheyenne', 'Richmond', 'Detroit', 'St. Louis',\n",
       "       'Salt Lake City', 'New Orleans', 'Boise', 'Phoenix', 'Albuquerque',\n",
       "       'Atlanta', 'Charleston', 'Charlotte', 'Columbus', 'Louisville',\n",
       "       'Jackson', 'Little Rock', 'Oklahoma City', 'Wichita',\n",
       "       'Sioux Falls', 'Fargo', 'Des Moines', 'Milwaukee', 'Indianapolis',\n",
       "       'Baltimore', 'Wilmington', 'Newark', 'Hartford', 'Providence',\n",
       "       'Boston', 'Burlington', 'Manchester'], dtype=object)"
      ]
     },
     "execution_count": 18,
     "metadata": {},
     "output_type": "execute_result"
    }
   ],
   "source": [
    "data['City'].unique()"
   ]
  },
  {
   "cell_type": "markdown",
   "metadata": {},
   "source": [
    "### -Product"
   ]
  },
  {
   "cell_type": "code",
   "execution_count": 19,
   "metadata": {},
   "outputs": [
    {
     "data": {
      "text/plain": [
       "array([\"Men's Street Footwear\", \"Men's Athletic Footwear\",\n",
       "       \"Women's Street Footwear\", \"Women's Athletic Footwear\",\n",
       "       \"Men's Apparel\", \"Women's Apparel\"], dtype=object)"
      ]
     },
     "execution_count": 19,
     "metadata": {},
     "output_type": "execute_result"
    }
   ],
   "source": [
    "data['Product'].unique()"
   ]
  },
  {
   "cell_type": "markdown",
   "metadata": {},
   "source": [
    "### Price per Unit, Units Sold, Total Sales, Operating Profit, Operating Margin"
   ]
  },
  {
   "cell_type": "code",
   "execution_count": 20,
   "metadata": {},
   "outputs": [],
   "source": [
    "def convert_series_from_dollar_to_number(values, _type='float64'):\n",
    "    '''\n",
    "    Given a series of values that could look like '$1.213,123' maps it to 1213.123\n",
    "    \n",
    "    If a value is using comas instead of dots as decimal separator it fixes the input\n",
    "    '''\n",
    "    values = values.map(lambda x: x.strip().replace('.','').replace(',', '.'))\n",
    "    verify = False not in values.map(lambda x: x.startswith('$')).unique()\n",
    "    if not verify:\n",
    "        raise Exception(\"not all values start with $\")\n",
    "    # convert first to float64 because there could be decimals then the requested type\n",
    "    return values.map(lambda x: x[1:]).astype('float64').astype(_type)"
   ]
  },
  {
   "cell_type": "code",
   "execution_count": 21,
   "metadata": {},
   "outputs": [
    {
     "data": {
      "text/plain": [
       "array(['$50,00 ', '$40,00 ', '$45,00 ', '$60,00 ', '$55,00 ', '$65,00 ',\n",
       "       '$70,00 ', '$25,00 ', '$35,00 ', '$30,00 ', '$80,00 ', '$75,00 ',\n",
       "       '$20,00 ', '$85,00 ', '$100,00 ', '$90,00 ', '$95,00 ', '$15,00 ',\n",
       "       '$10,00 ', '$110,00 ', '$105,00 ', '$47,00 ', '$36,00 ', '$41,00 ',\n",
       "       '$46,00 ', '$44,00 ', '$58,00 ', '$48,00 ', '$39,00 ', '$43,00 ',\n",
       "       '$59,00 ', '$56,00 ', '$49,00 ', '$54,00 ', '$64,00 ', '$53,00 ',\n",
       "       '$61,00 ', '$62,00 ', '$68,00 ', '$52,00 ', '$66,00 ', '$51,00 ',\n",
       "       '$24,00 ', '$34,00 ', '$33,00 ', '$23,00 ', '$32,00 ', '$38,00 ',\n",
       "       '$29,00 ', '$37,00 ', '$27,00 ', '$42,00 ', '$72,00 ', '$63,00 ',\n",
       "       '$69,00 ', '$76,00 ', '$67,00 ', '$57,00 ', '$28,00 ', '$18,00 ',\n",
       "       '$19,00 ', '$71,00 ', '$78,00 ', '$73,00 ', '$74,00 ', '$83,00 ',\n",
       "       '$82,00 ', '$98,00 ', '$77,00 ', '$88,00 ', '$86,00 ', '$14,00 ',\n",
       "       '$9,00 ', '$97,00 ', '$81,00 ', '$79,00 ', '$96,00 ', '$84,00 ',\n",
       "       '$89,00 ', '$103,00 ', '$101,00 ', '$87,00 ', '$92,00 ', '$31,00 ',\n",
       "       '$26,00 ', '$21,00 ', '$13,00 ', '$22,00 ', '$17,00 ', '$12,00 ',\n",
       "       '$16,00 ', '$11,00 ', '$7,00 ', '$8,00 '], dtype=object)"
      ]
     },
     "execution_count": 21,
     "metadata": {},
     "output_type": "execute_result"
    }
   ],
   "source": [
    "data['Price per Unit'].unique()"
   ]
  },
  {
   "cell_type": "code",
   "execution_count": 22,
   "metadata": {},
   "outputs": [],
   "source": [
    "data['Price per Unit'] = convert_series_from_dollar_to_number(data['Price per Unit'], 'int64')"
   ]
  },
  {
   "cell_type": "code",
   "execution_count": 23,
   "metadata": {},
   "outputs": [
    {
     "data": {
      "text/plain": [
       "array([ 50,  40,  45,  60,  55,  65,  70,  25,  35,  30,  80,  75,  20,\n",
       "        85, 100,  90,  95,  15,  10, 110, 105,  47,  36,  41,  46,  44,\n",
       "        58,  48,  39,  43,  59,  56,  49,  54,  64,  53,  61,  62,  68,\n",
       "        52,  66,  51,  24,  34,  33,  23,  32,  38,  29,  37,  27,  42,\n",
       "        72,  63,  69,  76,  67,  57,  28,  18,  19,  71,  78,  73,  74,\n",
       "        83,  82,  98,  77,  88,  86,  14,   9,  97,  81,  79,  96,  84,\n",
       "        89, 103, 101,  87,  92,  31,  26,  21,  13,  22,  17,  12,  16,\n",
       "        11,   7,   8], dtype=int64)"
      ]
     },
     "execution_count": 23,
     "metadata": {},
     "output_type": "execute_result"
    }
   ],
   "source": [
    "data['Price per Unit'].unique()"
   ]
  },
  {
   "cell_type": "code",
   "execution_count": 24,
   "metadata": {},
   "outputs": [
    {
     "data": {
      "text/plain": [
       "array(['$300.000 ', '$150.000 ', '$140.000 ', ..., '$471 ', '$896 ',\n",
       "       '$2.791 '], dtype=object)"
      ]
     },
     "execution_count": 24,
     "metadata": {},
     "output_type": "execute_result"
    }
   ],
   "source": [
    "data['Operating Profit'].unique()"
   ]
  },
  {
   "cell_type": "code",
   "execution_count": 25,
   "metadata": {},
   "outputs": [
    {
     "data": {
      "text/plain": [
       "array([300000, 150000, 140000, ...,    471,    896,   2791], dtype=int64)"
      ]
     },
     "execution_count": 25,
     "metadata": {},
     "output_type": "execute_result"
    }
   ],
   "source": [
    "data['Operating Profit'] = convert_series_from_dollar_to_number(data['Operating Profit'], 'int64')\n",
    "data['Operating Profit'].unique()"
   ]
  },
  {
   "cell_type": "code",
   "execution_count": 26,
   "metadata": {},
   "outputs": [
    {
     "data": {
      "text/plain": [
       "array(['$600.000 ', '$500.000 ', '$400.000 ', ..., '$4.902 ', '$5.664 ',\n",
       "       '$8.784 '], dtype=object)"
      ]
     },
     "execution_count": 26,
     "metadata": {},
     "output_type": "execute_result"
    }
   ],
   "source": [
    "data['Total Sales'].unique()"
   ]
  },
  {
   "cell_type": "code",
   "execution_count": 27,
   "metadata": {},
   "outputs": [
    {
     "data": {
      "text/plain": [
       "array([600000, 500000, 400000, ...,   4902,   5664,   8784], dtype=int64)"
      ]
     },
     "execution_count": 27,
     "metadata": {},
     "output_type": "execute_result"
    }
   ],
   "source": [
    "data['Total Sales'] = convert_series_from_dollar_to_number(data['Total Sales'], 'int64')\n",
    "data['Total Sales'].unique()"
   ]
  },
  {
   "cell_type": "code",
   "execution_count": 28,
   "metadata": {},
   "outputs": [
    {
     "data": {
      "text/plain": [
       "array(['50%', '30%', '35%', '25%', '45%', '20%', '15%', '40%', '55%',\n",
       "       '10%', '60%', '65%', '61%', '42%', '46%', '37%', '62%', '44%',\n",
       "       '47%', '49%', '43%', '38%', '63%', '41%', '64%', '48%', '36%',\n",
       "       '39%', '58%', '59%', '57%', '31%', '28%', '27%', '51%', '66%',\n",
       "       '33%', '34%', '29%', '24%', '23%', '21%', '52%', '53%', '68%',\n",
       "       '69%', '67%', '54%', '56%', '70%', '74%', '26%', '76%', '77%',\n",
       "       '73%', '32%', '75%', '72%', '71%', '80%', '79%', '22%', '19%',\n",
       "       '17%', '18%', '12%'], dtype=object)"
      ]
     },
     "execution_count": 28,
     "metadata": {},
     "output_type": "execute_result"
    }
   ],
   "source": [
    "data['Operating Margin'].unique()"
   ]
  },
  {
   "cell_type": "code",
   "execution_count": 29,
   "metadata": {},
   "outputs": [],
   "source": [
    "data['Operating Margin']=data['Operating Margin'].map(lambda x: x[:-1]).astype('int64')\n"
   ]
  },
  {
   "cell_type": "code",
   "execution_count": 30,
   "metadata": {},
   "outputs": [
    {
     "data": {
      "text/plain": [
       "array([50, 30, 35, 25, 45, 20, 15, 40, 55, 10, 60, 65, 61, 42, 46, 37, 62,\n",
       "       44, 47, 49, 43, 38, 63, 41, 64, 48, 36, 39, 58, 59, 57, 31, 28, 27,\n",
       "       51, 66, 33, 34, 29, 24, 23, 21, 52, 53, 68, 69, 67, 54, 56, 70, 74,\n",
       "       26, 76, 77, 73, 32, 75, 72, 71, 80, 79, 22, 19, 17, 18, 12],\n",
       "      dtype=int64)"
      ]
     },
     "execution_count": 30,
     "metadata": {},
     "output_type": "execute_result"
    }
   ],
   "source": [
    "data['Operating Margin'].unique()"
   ]
  },
  {
   "cell_type": "code",
   "execution_count": 31,
   "metadata": {},
   "outputs": [
    {
     "data": {
      "text/plain": [
       "array([1200, 1000,  850,  900, 1250,  950,  825, 1220,  925,  800,  875,\n",
       "       1050, 1275, 1025, 1100, 1075, 1150,  975,  920,  700,  550,  675,\n",
       "        625,  500,  600,  650,  725,  525,  775,  750,  575,  450,  425,\n",
       "        475,  275,  125,  175,  225,  100,  495,  200,   75,  150,  250,\n",
       "        350,  325,  400,  375,  300,  195,   50,  445,   25,  470, 1070,\n",
       "       1125,  745,  145,  420,    0,   95,  545,  570,  320,  870,  820,\n",
       "        520,  770,  795,  620,  295,  670,  345, 1020, 1045,  695,  945,\n",
       "        595,  220,  720,  395,  645,  245,  270,  170,  336,  260,  247,\n",
       "        234,  313,  261,  276,  206,  243,  290,  354,  259,  216,  230,\n",
       "        238,  252,  239,  215,  317,  278,  305,  319,  267,  231,  286,\n",
       "        308,  257,  241,  360,  268,  280,  236,  299,  273,  258,  254,\n",
       "        263,  312,  285,  210,  154,  203,  213,  255,  176,  196,  182,\n",
       "        174,  189,  163,  147,  232,  168,  169,  293,  297,  181,  240,\n",
       "        188,  209,  194,  217,  161,  233,  223,  140,  228,  152,  218,\n",
       "        248,  155,  219,  277,  202,  208,  160,  113,  106,  156,  119,\n",
       "        131,  221,  224,  124,   77,   83,   34,   47,   69,  158,   51,\n",
       "         61,   28,   44,  144,   60,   68,   19,   38,   63,  122,   42,\n",
       "         20,   65,  134,   54,   35,  135,  105,   81,   56,  120,  149,\n",
       "         94,   84,   49,   73,  115,   39,   33,  112,   53,   41,   58,\n",
       "        128,  116,   85,  167,  142,  126,  111,  138,  173,   36,   46,\n",
       "         13,    8,   45,   22,  136,   29,   31,   70,   90,   59,   98,\n",
       "        143,   80,  104,   27,   55,  117,   87,   74,   52,  102,  165,\n",
       "        130,  108,  162,  109,   88,  133,  123,   72,   91,  137,   78,\n",
       "        101,  256,  244,  304,  284,  323,   26,    7,   14,   21,  180,\n",
       "         23,    6,  118,   30,  127,  153,   93,  246,  146,  207,  186,\n",
       "        265,  283,  282,  311,  326,  287,  294,   57,  187,  139,  129,\n",
       "        141,  151,  164,  179,   15,   48,   86,   64,   96,  384,  281,\n",
       "        306,  330,  388,  315,  390,  314,  289,  372,  333,  366,  296,\n",
       "        288,  340,  347,  434,  318,  352,  359,  324,  279,  355,  408,\n",
       "        403,  322,  310,  204,  272,  264,  374,  302,  298,  184,  271,\n",
       "        190,  341,  338,  332,  198,  193,  107,  192,  201,  166,   17,\n",
       "         40,   24,   99,   79,   62,   66,  171,  132,  178,  157,  114,\n",
       "         43,  349,  376,  191,  103,   16,   32,  185,  177], dtype=int64)"
      ]
     },
     "execution_count": 31,
     "metadata": {},
     "output_type": "execute_result"
    }
   ],
   "source": [
    "data['Units Sold'].unique()"
   ]
  },
  {
   "cell_type": "code",
   "execution_count": 32,
   "metadata": {},
   "outputs": [
    {
     "data": {
      "text/plain": [
       "array(['In-store', 'Outlet', 'Online'], dtype=object)"
      ]
     },
     "execution_count": 32,
     "metadata": {},
     "output_type": "execute_result"
    }
   ],
   "source": [
    "data['Sales Method'].unique()"
   ]
  },
  {
   "cell_type": "code",
   "execution_count": 33,
   "metadata": {},
   "outputs": [
    {
     "data": {
      "text/plain": [
       "Retailer            object\n",
       "Invoice Date        object\n",
       "Region              object\n",
       "State               object\n",
       "City                object\n",
       "Product             object\n",
       "Price per Unit       int64\n",
       "Units Sold           int64\n",
       "Total Sales          int64\n",
       "Operating Profit     int64\n",
       "Operating Margin     int64\n",
       "Sales Method        object\n",
       "dtype: object"
      ]
     },
     "execution_count": 33,
     "metadata": {},
     "output_type": "execute_result"
    }
   ],
   "source": [
    "# Verification\n",
    "data.dtypes"
   ]
  },
  {
   "cell_type": "markdown",
   "metadata": {},
   "source": [
    "## Run the data.describe() function "
   ]
  },
  {
   "cell_type": "code",
   "execution_count": 34,
   "metadata": {},
   "outputs": [
    {
     "data": {
      "text/html": [
       "<div>\n",
       "<style scoped>\n",
       "    .dataframe tbody tr th:only-of-type {\n",
       "        vertical-align: middle;\n",
       "    }\n",
       "\n",
       "    .dataframe tbody tr th {\n",
       "        vertical-align: top;\n",
       "    }\n",
       "\n",
       "    .dataframe thead th {\n",
       "        text-align: right;\n",
       "    }\n",
       "</style>\n",
       "<table border=\"1\" class=\"dataframe\">\n",
       "  <thead>\n",
       "    <tr style=\"text-align: right;\">\n",
       "      <th></th>\n",
       "      <th>Price per Unit</th>\n",
       "      <th>Units Sold</th>\n",
       "      <th>Total Sales</th>\n",
       "      <th>Operating Profit</th>\n",
       "      <th>Operating Margin</th>\n",
       "    </tr>\n",
       "  </thead>\n",
       "  <tbody>\n",
       "    <tr>\n",
       "      <th>count</th>\n",
       "      <td>9648.000000</td>\n",
       "      <td>9648.000000</td>\n",
       "      <td>9648.000000</td>\n",
       "      <td>9648.000000</td>\n",
       "      <td>9648.000000</td>\n",
       "    </tr>\n",
       "    <tr>\n",
       "      <th>mean</th>\n",
       "      <td>45.216625</td>\n",
       "      <td>256.930037</td>\n",
       "      <td>93273.437500</td>\n",
       "      <td>34425.282131</td>\n",
       "      <td>42.299129</td>\n",
       "    </tr>\n",
       "    <tr>\n",
       "      <th>std</th>\n",
       "      <td>14.705397</td>\n",
       "      <td>214.252030</td>\n",
       "      <td>141916.016727</td>\n",
       "      <td>54193.124141</td>\n",
       "      <td>9.719742</td>\n",
       "    </tr>\n",
       "    <tr>\n",
       "      <th>min</th>\n",
       "      <td>7.000000</td>\n",
       "      <td>0.000000</td>\n",
       "      <td>0.000000</td>\n",
       "      <td>0.000000</td>\n",
       "      <td>10.000000</td>\n",
       "    </tr>\n",
       "    <tr>\n",
       "      <th>25%</th>\n",
       "      <td>35.000000</td>\n",
       "      <td>106.000000</td>\n",
       "      <td>4254.500000</td>\n",
       "      <td>1922.000000</td>\n",
       "      <td>35.000000</td>\n",
       "    </tr>\n",
       "    <tr>\n",
       "      <th>50%</th>\n",
       "      <td>45.000000</td>\n",
       "      <td>176.000000</td>\n",
       "      <td>9576.000000</td>\n",
       "      <td>4371.500000</td>\n",
       "      <td>41.000000</td>\n",
       "    </tr>\n",
       "    <tr>\n",
       "      <th>75%</th>\n",
       "      <td>55.000000</td>\n",
       "      <td>350.000000</td>\n",
       "      <td>150000.000000</td>\n",
       "      <td>52063.000000</td>\n",
       "      <td>49.000000</td>\n",
       "    </tr>\n",
       "    <tr>\n",
       "      <th>max</th>\n",
       "      <td>110.000000</td>\n",
       "      <td>1275.000000</td>\n",
       "      <td>825000.000000</td>\n",
       "      <td>390000.000000</td>\n",
       "      <td>80.000000</td>\n",
       "    </tr>\n",
       "  </tbody>\n",
       "</table>\n",
       "</div>"
      ],
      "text/plain": [
       "       Price per Unit   Units Sold    Total Sales  Operating Profit  \\\n",
       "count     9648.000000  9648.000000    9648.000000       9648.000000   \n",
       "mean        45.216625   256.930037   93273.437500      34425.282131   \n",
       "std         14.705397   214.252030  141916.016727      54193.124141   \n",
       "min          7.000000     0.000000       0.000000          0.000000   \n",
       "25%         35.000000   106.000000    4254.500000       1922.000000   \n",
       "50%         45.000000   176.000000    9576.000000       4371.500000   \n",
       "75%         55.000000   350.000000  150000.000000      52063.000000   \n",
       "max        110.000000  1275.000000  825000.000000     390000.000000   \n",
       "\n",
       "       Operating Margin  \n",
       "count       9648.000000  \n",
       "mean          42.299129  \n",
       "std            9.719742  \n",
       "min           10.000000  \n",
       "25%           35.000000  \n",
       "50%           41.000000  \n",
       "75%           49.000000  \n",
       "max           80.000000  "
      ]
     },
     "execution_count": 34,
     "metadata": {},
     "output_type": "execute_result"
    }
   ],
   "source": [
    "data.describe()"
   ]
  },
  {
   "cell_type": "code",
   "execution_count": 35,
   "metadata": {},
   "outputs": [],
   "source": [
    "data.drop(data[(data['Units Sold'] == 0)].index, inplace=True)"
   ]
  },
  {
   "cell_type": "code",
   "execution_count": 36,
   "metadata": {},
   "outputs": [
    {
     "data": {
      "text/html": [
       "<div>\n",
       "<style scoped>\n",
       "    .dataframe tbody tr th:only-of-type {\n",
       "        vertical-align: middle;\n",
       "    }\n",
       "\n",
       "    .dataframe tbody tr th {\n",
       "        vertical-align: top;\n",
       "    }\n",
       "\n",
       "    .dataframe thead th {\n",
       "        text-align: right;\n",
       "    }\n",
       "</style>\n",
       "<table border=\"1\" class=\"dataframe\">\n",
       "  <thead>\n",
       "    <tr style=\"text-align: right;\">\n",
       "      <th></th>\n",
       "      <th>Price per Unit</th>\n",
       "      <th>Units Sold</th>\n",
       "      <th>Total Sales</th>\n",
       "      <th>Operating Profit</th>\n",
       "      <th>Operating Margin</th>\n",
       "    </tr>\n",
       "  </thead>\n",
       "  <tbody>\n",
       "    <tr>\n",
       "      <th>count</th>\n",
       "      <td>9644.000000</td>\n",
       "      <td>9644.000000</td>\n",
       "      <td>9644.000000</td>\n",
       "      <td>9644.000000</td>\n",
       "      <td>9644.00000</td>\n",
       "    </tr>\n",
       "    <tr>\n",
       "      <th>mean</th>\n",
       "      <td>45.222418</td>\n",
       "      <td>257.036603</td>\n",
       "      <td>93312.124119</td>\n",
       "      <td>34439.560556</td>\n",
       "      <td>42.29718</td>\n",
       "    </tr>\n",
       "    <tr>\n",
       "      <th>std</th>\n",
       "      <td>14.705565</td>\n",
       "      <td>214.232536</td>\n",
       "      <td>141932.729876</td>\n",
       "      <td>54199.826197</td>\n",
       "      <td>9.72023</td>\n",
       "    </tr>\n",
       "    <tr>\n",
       "      <th>min</th>\n",
       "      <td>7.000000</td>\n",
       "      <td>6.000000</td>\n",
       "      <td>160.000000</td>\n",
       "      <td>75.000000</td>\n",
       "      <td>10.00000</td>\n",
       "    </tr>\n",
       "    <tr>\n",
       "      <th>25%</th>\n",
       "      <td>35.000000</td>\n",
       "      <td>106.000000</td>\n",
       "      <td>4261.250000</td>\n",
       "      <td>1924.750000</td>\n",
       "      <td>35.00000</td>\n",
       "    </tr>\n",
       "    <tr>\n",
       "      <th>50%</th>\n",
       "      <td>45.000000</td>\n",
       "      <td>176.000000</td>\n",
       "      <td>9581.000000</td>\n",
       "      <td>4374.500000</td>\n",
       "      <td>41.00000</td>\n",
       "    </tr>\n",
       "    <tr>\n",
       "      <th>75%</th>\n",
       "      <td>55.000000</td>\n",
       "      <td>350.000000</td>\n",
       "      <td>150000.000000</td>\n",
       "      <td>52063.000000</td>\n",
       "      <td>49.00000</td>\n",
       "    </tr>\n",
       "    <tr>\n",
       "      <th>max</th>\n",
       "      <td>110.000000</td>\n",
       "      <td>1275.000000</td>\n",
       "      <td>825000.000000</td>\n",
       "      <td>390000.000000</td>\n",
       "      <td>80.00000</td>\n",
       "    </tr>\n",
       "  </tbody>\n",
       "</table>\n",
       "</div>"
      ],
      "text/plain": [
       "       Price per Unit   Units Sold    Total Sales  Operating Profit  \\\n",
       "count     9644.000000  9644.000000    9644.000000       9644.000000   \n",
       "mean        45.222418   257.036603   93312.124119      34439.560556   \n",
       "std         14.705565   214.232536  141932.729876      54199.826197   \n",
       "min          7.000000     6.000000     160.000000         75.000000   \n",
       "25%         35.000000   106.000000    4261.250000       1924.750000   \n",
       "50%         45.000000   176.000000    9581.000000       4374.500000   \n",
       "75%         55.000000   350.000000  150000.000000      52063.000000   \n",
       "max        110.000000  1275.000000  825000.000000     390000.000000   \n",
       "\n",
       "       Operating Margin  \n",
       "count        9644.00000  \n",
       "mean           42.29718  \n",
       "std             9.72023  \n",
       "min            10.00000  \n",
       "25%            35.00000  \n",
       "50%            41.00000  \n",
       "75%            49.00000  \n",
       "max            80.00000  "
      ]
     },
     "execution_count": 36,
     "metadata": {},
     "output_type": "execute_result"
    }
   ],
   "source": [
    "data.describe()\n"
   ]
  },
  {
   "cell_type": "code",
   "execution_count": 37,
   "metadata": {},
   "outputs": [],
   "source": [
    "data.to_csv(\n",
    "    path.joinpath('02 data', 'Adidas_US_Sales-clean.csv'),\n",
    ")"
   ]
  }
 ],
 "metadata": {
  "kernelspec": {
   "display_name": "Python 3 (ipykernel)",
   "language": "python",
   "name": "python3"
  },
  "language_info": {
   "codemirror_mode": {
    "name": "ipython",
    "version": 3
   },
   "file_extension": ".py",
   "mimetype": "text/x-python",
   "name": "python",
   "nbconvert_exporter": "python",
   "pygments_lexer": "ipython3",
   "version": "3.7.16"
  }
 },
 "nbformat": 4,
 "nbformat_minor": 2
}
